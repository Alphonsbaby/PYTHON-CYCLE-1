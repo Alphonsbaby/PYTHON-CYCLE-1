{
  "nbformat": 4,
  "nbformat_minor": 0,
  "metadata": {
    "colab": {
      "name": "cycle1.ipynb",
      "provenance": [],
      "collapsed_sections": [],
      "authorship_tag": "ABX9TyP1yM2GRvPGdOw35sKkUDTr",
      "include_colab_link": true
    },
    "kernelspec": {
      "name": "python3",
      "display_name": "Python 3"
    }
  },
  "cells": [
    {
      "cell_type": "markdown",
      "metadata": {
        "id": "view-in-github",
        "colab_type": "text"
      },
      "source": [
        "<a href=\"https://colab.research.google.com/github/Alphonsbaby/PYTHON-CYCLE-1/blob/main/cycle1.ipynb\" target=\"_parent\"><img src=\"https://colab.research.google.com/assets/colab-badge.svg\" alt=\"Open In Colab\"/></a>"
      ]
    },
    {
      "cell_type": "code",
      "metadata": {
        "colab": {
          "base_uri": "https://localhost:8080/"
        },
        "id": "0Cv0tx53i6FH",
        "outputId": "b0dd9077-c333-4273-b651-4bdd5b0fc45f"
      },
      "source": [
        "# Store input numbers\r\n",
        "num1 = input('Enter first number: ')\r\n",
        "num2 = input('Enter second number: ')\r\n",
        "\r\n",
        "# Add two numbers\r\n",
        "sum = int(num1)+int(num2)\r\n",
        "\r\n",
        "# Display the sum\r\n",
        "print(\"sum is\",sum)"
      ],
      "execution_count": null,
      "outputs": [
        {
          "output_type": "stream",
          "text": [
            "Enter first number: 4\n",
            "Enter second number: 5\n",
            "sum is 9\n"
          ],
          "name": "stdout"
        }
      ]
    },
    {
      "cell_type": "code",
      "metadata": {
        "colab": {
          "base_uri": "https://localhost:8080/"
        },
        "id": "721ERsWeodMZ",
        "outputId": "cd0e3508-ecc1-4ef8-b8ba-da629e8f45eb"
      },
      "source": [
        "print(\"Hello, World!\")"
      ],
      "execution_count": null,
      "outputs": [
        {
          "output_type": "stream",
          "text": [
            "Hello, World!\n"
          ],
          "name": "stdout"
        }
      ]
    },
    {
      "cell_type": "code",
      "metadata": {
        "id": "0jun7atio1j8",
        "colab": {
          "base_uri": "https://localhost:8080/"
        },
        "outputId": "3017731a-1d49-47f8-c394-fb3e7180b0de"
      },
      "source": [
        "num1 = input('Enter first number: ')\r\n",
        "num2 = input('Enter second number: ')\r\n",
        "\r\n",
        "# Add two numbers\r\n",
        "sum = float(num1)*float(num2)\r\n",
        "\r\n",
        "# Display the sum\r\n",
        "print(\"multiply is\",sum)"
      ],
      "execution_count": null,
      "outputs": [
        {
          "output_type": "stream",
          "text": [
            "Enter first number: 4.5\n",
            "Enter second number: 5\n",
            "multiply is 22.5\n"
          ],
          "name": "stdout"
        }
      ]
    },
    {
      "cell_type": "code",
      "metadata": {
        "colab": {
          "base_uri": "https://localhost:8080/"
        },
        "id": "4wV004bdlAMB",
        "outputId": "c4642f61-7724-4b1a-e2af-cce054da46a0"
      },
      "source": [
        " num1 = int(input('Enter the integer  number: '))\r\n",
        "print('The number is {0} '.format(num1))\r\n",
        "\r\n",
        "\r\n"
      ],
      "execution_count": null,
      "outputs": [
        {
          "output_type": "stream",
          "text": [
            "Enter  number: 5\n",
            "The number is 5 \n"
          ],
          "name": "stdout"
        }
      ]
    },
    {
      "cell_type": "code",
      "metadata": {
        "colab": {
          "base_uri": "https://localhost:8080/"
        },
        "id": "ZfstpO7Koe8m",
        "outputId": "55d5b9e2-2729-4145-b584-c15088d9f2fd"
      },
      "source": [
        "def find(n, m): \r\n",
        "      \r\n",
        "    # for quotient \r\n",
        "    q = n//m \r\n",
        "    print(\"Quotient: \", q) \r\n",
        "      \r\n",
        "    # for remainder \r\n",
        "    r = n%m \r\n",
        "    print(\"Remainder\", r) \r\n",
        "      \r\n",
        "# Driver Code \r\n",
        "find(10, 3) \r\n",
        "find(99, 5)"
      ],
      "execution_count": null,
      "outputs": [
        {
          "output_type": "stream",
          "text": [
            "Quotient:  3\n",
            "Remainder 1\n",
            "Quotient:  19\n",
            "Remainder 4\n"
          ],
          "name": "stdout"
        }
      ]
    },
    {
      "cell_type": "code",
      "metadata": {
        "colab": {
          "base_uri": "https://localhost:8080/"
        },
        "id": "iAEKQFlUqZ5d",
        "outputId": "e8e540bf-8788-432d-b612-114f2bf85414"
      },
      "source": [
        "# Python program to swap two variables\r\n",
        "\r\n",
        "x = int(input('enter the value of x   :'))\r\n",
        "y = int(input('enter the value of y  :'))\r\n",
        "\r\n",
        "\r\n",
        "# create a temporary variable and swap the values\r\n",
        "temp = x\r\n",
        "x = y\r\n",
        "y = temp\r\n",
        "\r\n",
        "print(\"The value of x after swapping:\",x)\r\n",
        "print(\"The value of y after swapping:\",y)"
      ],
      "execution_count": null,
      "outputs": [
        {
          "output_type": "stream",
          "text": [
            "enter the value of x   :8\n",
            "enter the value of y  :9\n",
            "The value of x after swapping: 9\n",
            "The value of y after swapping: 8\n"
          ],
          "name": "stdout"
        }
      ]
    },
    {
      "cell_type": "code",
      "metadata": {
        "colab": {
          "base_uri": "https://localhost:8080/"
        },
        "id": "nl4gjn1GsAHt",
        "outputId": "54cb6da6-e34e-4c42-b465-cf529acbef43"
      },
      "source": [
        "num = int(input(\"Enter a number: \"))\r\n",
        "if (num % 2) == 0:\r\n",
        "   print(num,\" is even\")\r\n",
        "else:\r\n",
        "   print(num,\" is odd\")"
      ],
      "execution_count": null,
      "outputs": [
        {
          "output_type": "stream",
          "text": [
            "Enter a number: 5\n",
            "5  is odd\n"
          ],
          "name": "stdout"
        }
      ]
    },
    {
      "cell_type": "code",
      "metadata": {
        "colab": {
          "base_uri": "https://localhost:8080/"
        },
        "id": "o0tS39-ys_BE",
        "outputId": "d4ca1138-be22-4df6-df49-5c1c7fc3ce0c"
      },
      "source": [
        "ch = input(\"Enter a character: \")\r\n",
        "\r\n",
        "if(ch=='A' or ch=='a' or ch=='E' or ch =='e' or ch=='I'\r\n",
        " or ch=='i' or ch=='O' or ch=='o' or ch=='U' or ch=='u'):\r\n",
        "    print(ch, \"is a Vowel\")\r\n",
        "else:\r\n",
        "    print(ch, \"is a Consonant\")"
      ],
      "execution_count": null,
      "outputs": [
        {
          "output_type": "stream",
          "text": [
            "Enter a character: t\n",
            "t is a Consonant\n"
          ],
          "name": "stdout"
        }
      ]
    },
    {
      "cell_type": "code",
      "metadata": {
        "colab": {
          "base_uri": "https://localhost:8080/"
        },
        "id": "We63ISNjt4XS",
        "outputId": "8118160d-1cf7-443a-a5b8-7898c79dcf16"
      },
      "source": [
        "a=5\r\n",
        "b='anu'\r\n",
        "c=1.5\r\n",
        "d=1j\r\n",
        "e=[\"anu\",\"aneesha\"]\r\n",
        "f=(\"anu\",\"annesha\")\r\n",
        "g=range(6)\r\n",
        "h={\"anu\",\"aneesha\"}\r\n",
        "\r\n",
        "print(type(a))\r\n",
        "print(type(b))\r\n",
        "print(type(c))\r\n",
        "print(type(d))\r\n",
        "print(type(e))\r\n",
        "print(type(f))\r\n",
        "print(type(g))\r\n",
        "print(type(h))\r\n"
      ],
      "execution_count": null,
      "outputs": [
        {
          "output_type": "stream",
          "text": [
            "<class 'int'>\n",
            "<class 'str'>\n",
            "<class 'float'>\n",
            "<class 'complex'>\n",
            "<class 'list'>\n",
            "<class 'tuple'>\n",
            "<class 'range'>\n",
            "<class 'set'>\n"
          ],
          "name": "stdout"
        }
      ]
    },
    {
      "cell_type": "code",
      "metadata": {
        "colab": {
          "base_uri": "https://localhost:8080/"
        },
        "id": "lBYg2FCgvfdz",
        "outputId": "f2a8d38d-9ec5-41cd-cc62-4f81c0c14af0"
      },
      "source": [
        "x=int(input('enter the 1st number'))\r\n",
        "y=int(input('enter the 2 nd number'))\r\n",
        "z=int(input('enter the 3 rd number'))\r\n",
        "if (x >= y) and (x >= z):\r\n",
        "   largest = x\r\n",
        "elif (y >= x) and (y >= z):\r\n",
        "   largest = y\r\n",
        "else:\r\n",
        "   largest = z\r\n",
        "   print(\"The largest number is\", largest)\r\n",
        "  "
      ],
      "execution_count": null,
      "outputs": [
        {
          "output_type": "stream",
          "text": [
            "enter the 1st number6\n",
            "enter the 2 nd number7\n",
            "enter the 3 rd number8\n",
            "The largest number is 8\n"
          ],
          "name": "stdout"
        }
      ]
    },
    {
      "cell_type": "code",
      "metadata": {
        "id": "5-QBSnEoxCxR",
        "colab": {
          "base_uri": "https://localhost:8080/"
        },
        "outputId": "65f230ac-b95e-4e6f-8437-52c5be91ec1a"
      },
      "source": [
        "# Python program to check if year is a leap year or not\r\n",
        "\r\n",
        "year = int(input(\"enter the year\"))\r\n",
        "\r\n",
        "# To get year (integer input) from the user\r\n",
        "# year = int(input(\"Enter a year: \"))\r\n",
        "\r\n",
        "if (year % 4) == 0:\r\n",
        "   if (year % 100) == 0:\r\n",
        "       if (year % 400) == 0:\r\n",
        "           print(\"{0} is a leap year\".format(year))\r\n",
        "       else:\r\n",
        "           print(\"{0} is not a leap year\".format(year))\r\n",
        "   else:\r\n",
        "       print(\"{0} is a leap year\".format(year))\r\n",
        "else:\r\n",
        "   print(\"{0} is not a leap year\".format(year))"
      ],
      "execution_count": null,
      "outputs": [
        {
          "output_type": "stream",
          "text": [
            "enter the year2010\n",
            "2010 is not a leap year\n"
          ],
          "name": "stdout"
        }
      ]
    },
    {
      "cell_type": "code",
      "metadata": {
        "colab": {
          "base_uri": "https://localhost:8080/"
        },
        "id": "qQ3NRKYY_tmb",
        "outputId": "50c789bf-ece3-40a6-ac9f-b6f72299ca65"
      },
      "source": [
        "num = float(input(\"Enter a number: \"))\r\n",
        "if num >= 0:\r\n",
        "   if num == 0:\r\n",
        "       print(\"Zero\")\r\n",
        "   else:\r\n",
        "       print(\"Positive number\")\r\n",
        "else:\r\n",
        "   print(\"Negative number\")"
      ],
      "execution_count": null,
      "outputs": [
        {
          "output_type": "stream",
          "text": [
            "Enter a number: 6\n",
            "Positive number\n"
          ],
          "name": "stdout"
        }
      ]
    },
    {
      "cell_type": "code",
      "metadata": {
        "colab": {
          "base_uri": "https://localhost:8080/"
        },
        "id": "FVCWxJiOMtJI",
        "outputId": "aac05f66-fb6b-4107-a525-8ac4e0906b04"
      },
      "source": [
        "num = int(input(\"Enter a number: \"))  \r\n",
        "  \r\n",
        "if num < 0:  \r\n",
        "   print(\"Enter a positive number\")  \r\n",
        "else:  \r\n",
        "   sum = 0  \r\n",
        "   # use while loop to iterate un till zero  \r\n",
        "   while(num > 0):  \r\n",
        "       sum += num  \r\n",
        "       num -= 1  \r\n",
        "   print(\"The sum is\",sum)  "
      ],
      "execution_count": null,
      "outputs": [
        {
          "output_type": "stream",
          "text": [
            "Enter a number: 4\n",
            "The sum is 10\n"
          ],
          "name": "stdout"
        }
      ]
    },
    {
      "cell_type": "code",
      "metadata": {
        "colab": {
          "base_uri": "https://localhost:8080/"
        },
        "id": "Ls-avBQ1ONAC",
        "outputId": "96be2799-5b18-4d98-ccd8-b78cb4afdb0e"
      },
      "source": [
        "# Python program to find the factorial of a number provided by the user.\r\n",
        "\r\n",
        "# change the value for a different result\r\n",
        "num =int(input(\"enter a number\"))\r\n",
        "\r\n",
        "# To take input from the user\r\n",
        "#num = int(input(\"Enter a number: \"))\r\n",
        "\r\n",
        "factorial = 1\r\n",
        "\r\n",
        "# check if the number is negative, positive or zero\r\n",
        "if num < 0:\r\n",
        "   print(\"Sorry, factorial does not exist for negative numbers\")\r\n",
        "elif num == 0:\r\n",
        "   print(\"The factorial of 0 is 1\")\r\n",
        "else:\r\n",
        "   for i in range(1,num + 1):\r\n",
        "       factorial = factorial*i\r\n",
        "   print(\"The factorial of\",num,\"is\",factorial)"
      ],
      "execution_count": null,
      "outputs": [
        {
          "output_type": "stream",
          "text": [
            "enter a number4\n",
            "The factorial of 4 is 24\n"
          ],
          "name": "stdout"
        }
      ]
    },
    {
      "cell_type": "code",
      "metadata": {
        "colab": {
          "base_uri": "https://localhost:8080/"
        },
        "id": "zh0__6UnOX06",
        "outputId": "50202020-dc2c-4bbd-85e0-8ba78d33a7bc"
      },
      "source": [
        "# Multiplication table \r\n",
        "num = int(input(\"Display multiplication table of? \"))\r\n",
        "\r\n",
        "# Iterate 10 times from i = 1 to 10\r\n",
        "for i in range(1, 11):\r\n",
        "   print(num, 'x', i, '=', num*i)"
      ],
      "execution_count": null,
      "outputs": [
        {
          "output_type": "stream",
          "text": [
            "Display multiplication table of? 5\n",
            "5 x 1 = 5\n",
            "5 x 2 = 10\n",
            "5 x 3 = 15\n",
            "5 x 4 = 20\n",
            "5 x 5 = 25\n",
            "5 x 6 = 30\n",
            "5 x 7 = 35\n",
            "5 x 8 = 40\n",
            "5 x 9 = 45\n",
            "5 x 10 = 50\n"
          ],
          "name": "stdout"
        }
      ]
    },
    {
      "cell_type": "code",
      "metadata": {
        "colab": {
          "base_uri": "https://localhost:8080/"
        },
        "id": "uSAhwnPAQHRV",
        "outputId": "1af3e2b1-0205-4a31-f898-2f28750df9ac"
      },
      "source": [
        "# Program to display the Fibonacci sequence up to n-th term\r\n",
        "\r\n",
        "nterms = int(input(\"How many terms? \"))\r\n",
        "\r\n",
        "# first two terms\r\n",
        "n1, n2 = 0, 1\r\n",
        "count = 0\r\n",
        "\r\n",
        "# check if the number of terms is valid\r\n",
        "if nterms <= 0:\r\n",
        "   print(\"Please enter a positive integer\")\r\n",
        "elif nterms == 1:\r\n",
        "   print(\"Fibonacci sequence upto\",nterms,\":\")\r\n",
        "   print(n1)\r\n",
        "else:\r\n",
        "   print(\"Fibonacci sequence:\")\r\n",
        "   while count < nterms:\r\n",
        "       print(n1)\r\n",
        "       nth = n1 + n2\r\n",
        "       # update values\r\n",
        "       n1 = n2\r\n",
        "       n2 = nth\r\n",
        "       count += 1"
      ],
      "execution_count": null,
      "outputs": [
        {
          "output_type": "stream",
          "text": [
            "How many terms? 5\n",
            "Fibonacci sequence:\n",
            "0\n",
            "1\n",
            "1\n",
            "2\n",
            "3\n"
          ],
          "name": "stdout"
        }
      ]
    },
    {
      "cell_type": "code",
      "metadata": {
        "colab": {
          "base_uri": "https://localhost:8080/"
        },
        "id": "2XfwMtjrRzIl",
        "outputId": "c70a2e40-4b87-4f6e-e270-6f354f719444"
      },
      "source": [
        "# Python Program to find the L.C.M. of two input number\r\n",
        "\r\n",
        "def compute_lcm(x, y):\r\n",
        "\r\n",
        "   # choose the greater number\r\n",
        "   if x > y:\r\n",
        "       greater = x\r\n",
        "   else:\r\n",
        "       greater = y\r\n",
        "\r\n",
        "   while(True):\r\n",
        "       if((greater % x == 0) and (greater % y == 0)):\r\n",
        "           lcm = greater\r\n",
        "           break\r\n",
        "       greater += 1\r\n",
        "\r\n",
        "   return lcm\r\n",
        "\r\n",
        "num1 = int(input(\" 1 st number\"))\r\n",
        "num2 = int(input(\" 2 st number\"))\r\n",
        "\r\n",
        "print(\"The L.C.M. is\", compute_lcm(num1, num2))"
      ],
      "execution_count": null,
      "outputs": [
        {
          "output_type": "stream",
          "text": [
            " 1 st number3\n",
            " 2 st number5\n",
            "The L.C.M. is 15\n"
          ],
          "name": "stdout"
        }
      ]
    },
    {
      "cell_type": "code",
      "metadata": {
        "colab": {
          "base_uri": "https://localhost:8080/"
        },
        "id": "opMgKcBpWRB_",
        "outputId": "ff40eef4-3c55-472d-bff1-2a430a5db9b3"
      },
      "source": [
        " \r\n",
        "# number of digits in a number\r\n",
        " \r\n",
        " \r\n",
        "def countDigit(n):\r\n",
        "    count = 0\r\n",
        "    while n != 0:\r\n",
        "        n //= 10\r\n",
        "        count += 1\r\n",
        "    return count\r\n",
        " \r\n",
        " \r\n",
        "# Driver Code\r\n",
        "n = int(input(\"enter the number\"))\r\n",
        "print(\"Number of digits : % d\" % (countDigit(n)))\r\n",
        " \r\n",
        "# This code is contributed by Shreyanshi Arun"
      ],
      "execution_count": 2,
      "outputs": [
        {
          "output_type": "stream",
          "text": [
            "enter the number875\n",
            "Number of digits :  3\n"
          ],
          "name": "stdout"
        }
      ]
    },
    {
      "cell_type": "code",
      "metadata": {
        "colab": {
          "base_uri": "https://localhost:8080/"
        },
        "id": "4O5cEmwWWqEz",
        "outputId": "116575a4-b05d-4350-c9c1-915aa26e2cae"
      },
      "source": [
        "# Python Program to Reverse a Number using While loop.\r\n",
        "Number = int(input(\"Please Enter any Number: \"))\r\n",
        "Reverse = 0.\r\n",
        "while(Number > 0):\r\n",
        " Reminder = Number % 10\r\n",
        " Reverse = (Reverse *10) + Reminder\r\n",
        " Number = Number //10\r\n",
        " print(\"\\n Reverse of entered number is = %d\" %Reverse)"
      ],
      "execution_count": 7,
      "outputs": [
        {
          "output_type": "stream",
          "text": [
            "Please Enter any Number: 5567\n",
            "\n",
            " Reverse of entered number is = 7\n",
            "\n",
            " Reverse of entered number is = 76\n",
            "\n",
            " Reverse of entered number is = 765\n",
            "\n",
            " Reverse of entered number is = 7655\n"
          ],
          "name": "stdout"
        }
      ]
    },
    {
      "cell_type": "code",
      "metadata": {
        "colab": {
          "base_uri": "https://localhost:8080/"
        },
        "id": "8oXUxDxAXyds",
        "outputId": "4fb07dc8-73c2-4736-ad07-b2aa3ff12387"
      },
      "source": [
        "base_number = int(input(\"Enter the base number\"))\r\n",
        "exponent = int(input(\"Enter the exponent\"))\r\n",
        "\r\n",
        "power = base_number ** exponent\r\n",
        "print(\"Result is =\",power)"
      ],
      "execution_count": 8,
      "outputs": [
        {
          "output_type": "stream",
          "text": [
            "Enter the base number5\n",
            "Enter the exponent4\n",
            "Result is = 625\n"
          ],
          "name": "stdout"
        }
      ]
    },
    {
      "cell_type": "code",
      "metadata": {
        "colab": {
          "base_uri": "https://localhost:8080/"
        },
        "id": "udnP1FJHYQNk",
        "outputId": "74fa7cd1-69a9-49c2-dcfd-cda3778fdc74"
      },
      "source": [
        "n=int(input(\"Enter number:\")) \r\n",
        "temp=n\r\n",
        "rev=0 \r\n",
        "while(n>0): \r\n",
        "  dig=n%10 \r\n",
        "  rev=rev*10+dig \r\n",
        "  n=n//10 \r\n",
        "if(temp==rev):\r\n",
        "   print(\"The number is a palindrome!\") \r\n",
        "else: \r\n",
        "  print(\"The number isn't a palindrome!\") "
      ],
      "execution_count": 11,
      "outputs": [
        {
          "output_type": "stream",
          "text": [
            "Enter number:444\n",
            "The number is a palindrome!\n"
          ],
          "name": "stdout"
        }
      ]
    }
  ]
}