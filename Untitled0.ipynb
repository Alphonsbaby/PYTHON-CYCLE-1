{
  "nbformat": 4,
  "nbformat_minor": 0,
  "metadata": {
    "colab": {
      "name": "Untitled0.ipynb",
      "provenance": [],
      "collapsed_sections": [],
      "authorship_tag": "ABX9TyN39VsmL6KN/Xe+kn+2oT3I",
      "include_colab_link": true
    },
    "kernelspec": {
      "name": "python3",
      "display_name": "Python 3"
    }
  },
  "cells": [
    {
      "cell_type": "markdown",
      "metadata": {
        "id": "view-in-github",
        "colab_type": "text"
      },
      "source": [
        "<a href=\"https://colab.research.google.com/github/Alphonsbaby/PYTHON-CYCLE-1/blob/main/Untitled0.ipynb\" target=\"_parent\"><img src=\"https://colab.research.google.com/assets/colab-badge.svg\" alt=\"Open In Colab\"/></a>"
      ]
    },
    {
      "cell_type": "code",
      "metadata": {
        "colab": {
          "base_uri": "https://localhost:8080/"
        },
        "id": "0Cv0tx53i6FH",
        "outputId": "b0dd9077-c333-4273-b651-4bdd5b0fc45f"
      },
      "source": [
        "# Store input numbers\r\n",
        "num1 = input('Enter first number: ')\r\n",
        "num2 = input('Enter second number: ')\r\n",
        "\r\n",
        "# Add two numbers\r\n",
        "sum = int(num1)+int(num2)\r\n",
        "\r\n",
        "# Display the sum\r\n",
        "print(\"sum is\",sum)"
      ],
      "execution_count": 11,
      "outputs": [
        {
          "output_type": "stream",
          "text": [
            "Enter first number: 4\n",
            "Enter second number: 5\n",
            "sum is 9\n"
          ],
          "name": "stdout"
        }
      ]
    },
    {
      "cell_type": "code",
      "metadata": {
        "colab": {
          "base_uri": "https://localhost:8080/"
        },
        "id": "721ERsWeodMZ",
        "outputId": "cd0e3508-ecc1-4ef8-b8ba-da629e8f45eb"
      },
      "source": [
        "print(\"Hello, World!\")"
      ],
      "execution_count": null,
      "outputs": [
        {
          "output_type": "stream",
          "text": [
            "Hello, World!\n"
          ],
          "name": "stdout"
        }
      ]
    },
    {
      "cell_type": "code",
      "metadata": {
        "id": "0jun7atio1j8",
        "colab": {
          "base_uri": "https://localhost:8080/"
        },
        "outputId": "3017731a-1d49-47f8-c394-fb3e7180b0de"
      },
      "source": [
        "num1 = input('Enter first number: ')\r\n",
        "num2 = input('Enter second number: ')\r\n",
        "\r\n",
        "# Add two numbers\r\n",
        "sum = float(num1)*float(num2)\r\n",
        "\r\n",
        "# Display the sum\r\n",
        "print(\"multiply is\",sum)"
      ],
      "execution_count": 13,
      "outputs": [
        {
          "output_type": "stream",
          "text": [
            "Enter first number: 4.5\n",
            "Enter second number: 5\n",
            "multiply is 22.5\n"
          ],
          "name": "stdout"
        }
      ]
    },
    {
      "cell_type": "code",
      "metadata": {
        "colab": {
          "base_uri": "https://localhost:8080/"
        },
        "id": "4wV004bdlAMB",
        "outputId": "c4642f61-7724-4b1a-e2af-cce054da46a0"
      },
      "source": [
        " num1 = int(input('Enter the integer  number: '))\r\n",
        "print('The number is {0} '.format(num1))\r\n",
        "\r\n",
        "\r\n"
      ],
      "execution_count": 9,
      "outputs": [
        {
          "output_type": "stream",
          "text": [
            "Enter  number: 5\n",
            "The number is 5 \n"
          ],
          "name": "stdout"
        }
      ]
    },
    {
      "cell_type": "code",
      "metadata": {
        "colab": {
          "base_uri": "https://localhost:8080/"
        },
        "id": "ZfstpO7Koe8m",
        "outputId": "55d5b9e2-2729-4145-b584-c15088d9f2fd"
      },
      "source": [
        "def find(n, m): \r\n",
        "      \r\n",
        "    # for quotient \r\n",
        "    q = n//m \r\n",
        "    print(\"Quotient: \", q) \r\n",
        "      \r\n",
        "    # for remainder \r\n",
        "    r = n%m \r\n",
        "    print(\"Remainder\", r) \r\n",
        "      \r\n",
        "# Driver Code \r\n",
        "find(10, 3) \r\n",
        "find(99, 5)"
      ],
      "execution_count": 14,
      "outputs": [
        {
          "output_type": "stream",
          "text": [
            "Quotient:  3\n",
            "Remainder 1\n",
            "Quotient:  19\n",
            "Remainder 4\n"
          ],
          "name": "stdout"
        }
      ]
    }
  ]
}