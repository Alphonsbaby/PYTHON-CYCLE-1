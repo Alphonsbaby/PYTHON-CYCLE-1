{
  "nbformat": 4,
  "nbformat_minor": 0,
  "metadata": {
    "colab": {
      "name": "Cycle3.ipynb",
      "provenance": [],
      "collapsed_sections": [],
      "authorship_tag": "ABX9TyObo86EVNR+6Wb4Fq+8B8I0",
      "include_colab_link": true
    },
    "kernelspec": {
      "name": "python3",
      "display_name": "Python 3"
    }
  },
  "cells": [
    {
      "cell_type": "markdown",
      "metadata": {
        "id": "view-in-github",
        "colab_type": "text"
      },
      "source": [
        "<a href=\"https://colab.research.google.com/github/Alphonsbaby/PYTHON-CYCLE-1/blob/main/Cycle3.ipynb\" target=\"_parent\"><img src=\"https://colab.research.google.com/assets/colab-badge.svg\" alt=\"Open In Colab\"/></a>"
      ]
    },
    {
      "cell_type": "code",
      "metadata": {
        "colab": {
          "base_uri": "https://localhost:8080/"
        },
        "id": "teQTOclhywOm",
        "outputId": "ffaa91ad-d18b-4d8a-d04e-43a7e50f9725"
      },
      "source": [
        "num=int(input(\"enter the number\"))\r\n",
        "\r\n",
        "factorial = 1\r\n",
        "\r\n",
        "# check if the number is negative, positive or zero\r\n",
        "if num < 0:\r\n",
        "   print(\"Sorry, factorial does not exist for negative numbers\")\r\n",
        "elif num == 0:\r\n",
        "   print(\"The factorial of 0 is 1\")\r\n",
        "else:\r\n",
        "   for i in range(1,num + 1):\r\n",
        "       factorial = factorial*i\r\n",
        "   print(\"The factorial of\",num,\"is\",factorial)"
      ],
      "execution_count": null,
      "outputs": [
        {
          "output_type": "stream",
          "text": [
            "enter the number7\n",
            "The factorial of 7 is 5040\n"
          ],
          "name": "stdout"
        }
      ]
    },
    {
      "cell_type": "code",
      "metadata": {
        "id": "wE96qDdb4O2o"
      },
      "source": [
        "#7 'ing' at the end of the string\r\n",
        "def add_string(str1):\r\n",
        "  length = len(str1)\r\n",
        "\r\n",
        "  if length > 2:\r\n",
        "    if str1[-3:] == 'ing':\r\n",
        "      str1 += 'ly'\r\n",
        "    else:\r\n",
        "      str1 += 'ing'\r\n",
        "\r\n",
        "  return str1\r\n",
        "print(add_string('ab'))\r\n",
        "print(add_string('abc'))\r\n",
        "print(add_string('string'))"
      ],
      "execution_count": null,
      "outputs": []
    },
    {
      "cell_type": "code",
      "metadata": {
        "id": "KvZ7tdDV4KE1"
      },
      "source": [
        "#5 pyramid using number\r\n",
        "row = int(input('Enter how many lines? '))\r\n",
        "for i in range(1,row+1):\r\n",
        "    \r\n",
        "    for j in range(1, row+1-i):\r\n",
        "        print(' ', end='')\r\n",
        "    \r\n",
        "    for j in range(1,i+1):\r\n",
        "        print(j, end='')\r\n",
        "     \r\n",
        "    for j in range(i-1,0,-1):\r\n",
        "        print(j, end='')\r\n",
        "    \r\n",
        "    print()"
      ],
      "execution_count": null,
      "outputs": []
    },
    {
      "cell_type": "code",
      "metadata": {
        "id": "T6rYT3nb4GLd"
      },
      "source": [
        "#4perfect square\r\n",
        "l=int(input(\"Enter lower range: \"))\r\n",
        "r=int(input(\"Enter upper range: \"))\r\n",
        "for i in range(l,r+1,1):\r\n",
        "   for j in range(32,100,1):\r\n",
        "      if i == j*j:\r\n",
        "         string = str(i)\r\n",
        "         if int(string[0])%2 == 0 and int(string[1])%2 == 0 and int(string[2])%2 == 0 and int(string[3])%2 == 0:\r\n",
        "           print(i)"
      ],
      "execution_count": null,
      "outputs": []
    },
    {
      "cell_type": "code",
      "metadata": {
        "colab": {
          "base_uri": "https://localhost:8080/"
        },
        "id": "H0NGzJXBzQiT",
        "outputId": "597c4701-a7e9-455e-d085-f49371c431b9"
      },
      "source": [
        "nterms = int(input(\"How many terms? \"))\r\n",
        "\r\n",
        "# first two terms\r\n",
        "n1, n2 = 0, 1\r\n",
        "count = 0\r\n",
        "\r\n",
        "# check if the number of terms is valid\r\n",
        "if nterms <= 0:\r\n",
        "   print(\"Please enter a positive integer\")\r\n",
        "elif nterms == 1:\r\n",
        "   print(\"Fibonacci sequence upto\",nterms,\":\")\r\n",
        "   print(n1)\r\n",
        "else:\r\n",
        "   print(\"Fibonacci sequence:\")\r\n",
        "   while count < nterms:\r\n",
        "       print(n1)\r\n",
        "       nth = n1 + n2\r\n",
        "       # update values\r\n",
        "       n1 = n2\r\n",
        "       n2 = nth\r\n",
        "       count += 1"
      ],
      "execution_count": null,
      "outputs": [
        {
          "output_type": "stream",
          "text": [
            "How many terms? 5\n",
            "Fibonacci sequence:\n",
            "0\n",
            "1\n",
            "1\n",
            "2\n",
            "3\n"
          ],
          "name": "stdout"
        }
      ]
    },
    {
      "cell_type": "code",
      "metadata": {
        "colab": {
          "base_uri": "https://localhost:8080/"
        },
        "id": "1XwvzOgVzkXk",
        "outputId": "a586a08c-0f8d-4dda-b65b-3b850c5cd54e"
      },
      "source": [
        "# Python program to find sum of elements in list\r\n",
        "total = 0\r\n",
        " \r\n",
        "# creating a list\r\n",
        "list1 = [11, 5, 17, 18, 23] \r\n",
        " \r\n",
        "# Iterate each element in list\r\n",
        "# and add them in variale total\r\n",
        "for ele in range(0, len(list1)):\r\n",
        "    total = total + list1[ele]\r\n",
        " \r\n",
        "# printing total value\r\n",
        "print(\"Sum of all elements in given list: \", total)"
      ],
      "execution_count": null,
      "outputs": [
        {
          "output_type": "stream",
          "text": [
            "Sum of all elements in given list:  74\n"
          ],
          "name": "stdout"
        }
      ]
    },
    {
      "cell_type": "code",
      "metadata": {
        "colab": {
          "base_uri": "https://localhost:8080/"
        },
        "id": "Naa19aVcz2Hw",
        "outputId": "0f50181b-d4f9-4758-b9c0-fbe12daf0151"
      },
      "source": [
        "row = int(input('Enter how many lines? '))\r\n",
        "\r\n",
        "# Generating pattern\r\n",
        "for i in range(1,row+1):\r\n",
        "    \r\n",
        "    # for space\r\n",
        "    for j in range(1, row+1-i):\r\n",
        "        print(' ', end='')\r\n",
        "    \r\n",
        "    # for increasing pattern\r\n",
        "    for j in range(1,i+1):\r\n",
        "        print(j, end='')\r\n",
        "    \r\n",
        "    # for decreasing pattern \r\n",
        "    for j in range(i-1,0,-1):\r\n",
        "        print(j, end='')\r\n",
        "    \r\n",
        "    # Moving to next line\r\n",
        "    print()"
      ],
      "execution_count": null,
      "outputs": [
        {
          "output_type": "stream",
          "text": [
            "Enter how many lines? 3\n",
            "  1\n",
            " 121\n",
            "12321\n"
          ],
          "name": "stdout"
        }
      ]
    },
    {
      "cell_type": "code",
      "metadata": {
        "colab": {
          "base_uri": "https://localhost:8080/"
        },
        "id": "l3WIiR9b0oxx",
        "outputId": "ae72fe15-f969-4bdd-fdb8-8703ad883aa4"
      },
      "source": [
        "def char_frequency(str1):\r\n",
        "    dict = {}\r\n",
        "    for n in str1:\r\n",
        "        keys = dict.keys()\r\n",
        "        if n in keys:\r\n",
        "            dict[n] += 1\r\n",
        "        else:\r\n",
        "            dict[n] = 1\r\n",
        "    return dict\r\n",
        "print(char_frequency('google.com'))"
      ],
      "execution_count": null,
      "outputs": [
        {
          "output_type": "stream",
          "text": [
            "{'g': 2, 'o': 3, 'l': 1, 'e': 1, '.': 1, 'c': 1, 'm': 1}\n"
          ],
          "name": "stdout"
        }
      ]
    },
    {
      "cell_type": "code",
      "metadata": {
        "colab": {
          "base_uri": "https://localhost:8080/"
        },
        "id": "YaEkD-xx1hgP",
        "outputId": "f7d6bd98-5a22-48e4-f871-d466abf1b1ac"
      },
      "source": [
        "print(\"Print equilateral triangle Pyramid using stars \")\r\n",
        "size = 7\r\n",
        "m = (2 * size) - 2\r\n",
        "for i in range(0, size):\r\n",
        "    for j in range(0, m):\r\n",
        "        print(end=\" \")\r\n",
        "    m = m - 1  # decrementing m after each loop\r\n",
        "    for j in range(0, i + 1):\r\n",
        "        # printing full Triangle pyramid using stars\r\n",
        "        print(\"* \", end=' ')\r\n",
        "    print(\" \")"
      ],
      "execution_count": null,
      "outputs": [
        {
          "output_type": "stream",
          "text": [
            "Print equilateral triangle Pyramid using stars \n",
            "            *   \n",
            "           *  *   \n",
            "          *  *  *   \n",
            "         *  *  *  *   \n",
            "        *  *  *  *  *   \n",
            "       *  *  *  *  *  *   \n",
            "      *  *  *  *  *  *  *   \n"
          ],
          "name": "stdout"
        }
      ]
    },
    {
      "cell_type": "code",
      "metadata": {
        "colab": {
          "base_uri": "https://localhost:8080/"
        },
        "id": "HMXC-wAY2VQl",
        "outputId": "aaeeab80-6eca-4be3-ac1f-e813e95e7500"
      },
      "source": [
        "# Python Program to find the factors of a number\r\n",
        "\r\n",
        "# This function computes the factor of the argument passed\r\n",
        "def print_factors(x):\r\n",
        "   print(\"The factors of\",x,\"are:\")\r\n",
        "   for i in range(1, x + 1):\r\n",
        "       if x % i == 0:\r\n",
        "           print(i)\r\n",
        "\r\n",
        "num = 8\r\n",
        "\r\n",
        "print_factors(num)"
      ],
      "execution_count": null,
      "outputs": [
        {
          "output_type": "stream",
          "text": [
            "The factors of 8 are:\n",
            "1\n",
            "2\n",
            "4\n",
            "8\n"
          ],
          "name": "stdout"
        }
      ]
    },
    {
      "cell_type": "code",
      "metadata": {
        "colab": {
          "base_uri": "https://localhost:8080/"
        },
        "id": "6yjyLo-O3bo_",
        "outputId": "c6cadc98-07f3-40a5-ec37-faa0252640d1"
      },
      "source": [
        "import math\r\n",
        "t_peri =lambda p,q,r :p+q+r\r\n",
        "r_area=lambda len,ht :len*ht \r\n",
        "c_peri=lambda rad :2*math.pi*rad \r\n",
        "c_area=lambda rad :math.pi*rad*rad \r\n",
        "\r\n",
        "print(\"perimeter of triangle (10,20,15) is \",t_peri(10,20,15))\r\n",
        "print(\"area of rectangle (30,20) is\",r_area(30,20))\r\n",
        "print(\"perimeter of circle (10) is:\",c_peri(10))\r\n",
        "print(\"area of circle (15) is: \",c_area(15))\r\n"
      ],
      "execution_count": null,
      "outputs": [
        {
          "output_type": "stream",
          "text": [
            "perimeter of triangle (10,20,15) is  45\n",
            "area of rectangle (30,20) is 600\n",
            "perimeter of circle (10) is: 62.83185307179586\n",
            "area of circle (15) is:  706.8583470577034\n"
          ],
          "name": "stdout"
        }
      ]
    },
    {
      "cell_type": "code",
      "metadata": {
        "colab": {
          "base_uri": "https://localhost:8080/"
        },
        "id": "XHXiTq8U6Kd9",
        "outputId": "969c5739-ae1b-4dc1-fd06-1dfd8ade8d16"
      },
      "source": [
        "# function to find the longest \r\n",
        "# length in the list \r\n",
        "def longestLength(a): \r\n",
        "    max1 = len(a[0]) \r\n",
        "    temp = a[0] \r\n",
        "  \r\n",
        "    # for loop to traverse the list \r\n",
        "    for i in a: \r\n",
        "        if(len(i) > max1): \r\n",
        "  \r\n",
        "            max1 = len(i) \r\n",
        "            temp = i \r\n",
        "  \r\n",
        "    print(\"The word with the longest length is:\", temp, \r\n",
        "          \" and length is \", max1) \r\n",
        "  \r\n",
        "  \r\n",
        "# Driver Program \r\n",
        "a = input(\"Enter a list elements separated by space \")\r\n",
        "\r\n",
        "a = a.split() \r\n",
        "longestLength(a) "
      ],
      "execution_count": null,
      "outputs": [
        {
          "output_type": "stream",
          "text": [
            "Enter a list elements separated by space qas dewf\n",
            "The word with the longest length is: dewf  and length is  4\n"
          ],
          "name": "stdout"
        }
      ]
    }
  ]
}