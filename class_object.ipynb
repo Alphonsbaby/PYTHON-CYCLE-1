{
  "nbformat": 4,
  "nbformat_minor": 0,
  "metadata": {
    "colab": {
      "name": "class-object",
      "provenance": [],
      "authorship_tag": "ABX9TyOPgeDl3OeVSIGi5GIVDpNd",
      "include_colab_link": true
    },
    "kernelspec": {
      "name": "python3",
      "display_name": "Python 3"
    }
  },
  "cells": [
    {
      "cell_type": "markdown",
      "metadata": {
        "id": "view-in-github",
        "colab_type": "text"
      },
      "source": [
        "<a href=\"https://colab.research.google.com/github/Alphonsbaby/PYTHON-CYCLE-1/blob/main/class_object.ipynb\" target=\"_parent\"><img src=\"https://colab.research.google.com/assets/colab-badge.svg\" alt=\"Open In Colab\"/></a>"
      ]
    },
    {
      "cell_type": "code",
      "metadata": {
        "id": "OyHyR0ktdpe1"
      },
      "source": [
        ""
      ],
      "execution_count": null,
      "outputs": []
    },
    {
      "cell_type": "code",
      "metadata": {
        "colab": {
          "base_uri": "https://localhost:8080/"
        },
        "id": "r6jw5iKcd2ql",
        "outputId": "90755d48-92f9-4048-d361-5af51d610670"
      },
      "source": [
        "class MyClass:\r\n",
        "  x = 5\r\n",
        "\r\n",
        "p1 = MyClass()\r\n",
        "print(p1.x)"
      ],
      "execution_count": 1,
      "outputs": [
        {
          "output_type": "stream",
          "text": [
            "5\n"
          ],
          "name": "stdout"
        }
      ]
    },
    {
      "cell_type": "code",
      "metadata": {
        "id": "AQHlme86eUhT"
      },
      "source": [
        "class Person:\r\n",
        "  def __init__(self, name, age):\r\n",
        "    self.name = name\r\n",
        "    self.age = age\r\n",
        "\r\n",
        "  def display(self):\r\n",
        "    print(\"Hello my name is \" + self.name)\r\n",
        "\r\n",
        "  def __del__(self): \r\n",
        "    print('Destructor called, Employee deleted.') \r\n",
        "\r\n",
        "p1 = Person(\"John\", 36)\r\n",
        "p1.display()\r\n",
        "del p1\r\n"
      ],
      "execution_count": null,
      "outputs": []
    }
  ]
}