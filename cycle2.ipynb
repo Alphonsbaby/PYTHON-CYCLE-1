{
  "nbformat": 4,
  "nbformat_minor": 0,
  "metadata": {
    "colab": {
      "name": "cycle2.ipynb",
      "provenance": [],
      "collapsed_sections": [],
      "authorship_tag": "ABX9TyNBz57CVnoYDOP/RRKNFx3E",
      "include_colab_link": true
    },
    "kernelspec": {
      "name": "python3",
      "display_name": "Python 3"
    }
  },
  "cells": [
    {
      "cell_type": "markdown",
      "metadata": {
        "id": "view-in-github",
        "colab_type": "text"
      },
      "source": [
        "<a href=\"https://colab.research.google.com/github/Alphonsbaby/PYTHON-CYCLE-1/blob/main/cycle2.ipynb\" target=\"_parent\"><img src=\"https://colab.research.google.com/assets/colab-badge.svg\" alt=\"Open In Colab\"/></a>"
      ]
    },
    {
      "cell_type": "code",
      "metadata": {
        "colab": {
          "base_uri": "https://localhost:8080/"
        },
        "id": "l6hz8rPi1r_A",
        "outputId": "ef995a61-2cef-4ba3-dbde-f4770fafd7f6"
      },
      "source": [
        "yes \r\n",
        "list = [11, 22, 33, 44, 55]\r\n",
        "print(\"list before removing EVENnumbers\")\r\n",
        "print (list)\r\n",
        "\r\n",
        "for i  in list:\r\n",
        "\tif(i%2 == 0):\r\n",
        "\t    list.remove(i)\r\n",
        "\r\n",
        "print (\"list after removing EVEN numbers:\")\r\n",
        "print (list)"
      ],
      "execution_count": null,
      "outputs": [
        {
          "output_type": "stream",
          "text": [
            "list before removing EVENnumbers\n",
            "[11, 22, 33, 44, 55]\n",
            "list after removing EVEN numbers:\n",
            "[11, 33, 55]\n"
          ],
          "name": "stdout"
        }
      ]
    },
    {
      "cell_type": "code",
      "metadata": {
        "colab": {
          "base_uri": "https://localhost:8080/"
        },
        "id": "DYBFhNxJ4uED",
        "outputId": "614b623a-d2ab-4663-8e71-ff0ed0d527b7"
      },
      "source": [
        "import math \r\n",
        "\r\n",
        "print(\"The gcd of 60 and 48 is : \", end=\"\") \r\n",
        "print(math.gcd(60, 48))"
      ],
      "execution_count": null,
      "outputs": [
        {
          "output_type": "stream",
          "text": [
            "The gcd of 60 and 48 is : 12\n"
          ],
          "name": "stdout"
        }
      ]
    },
    {
      "cell_type": "code",
      "metadata": {
        "colab": {
          "base_uri": "https://localhost:8080/"
        },
        "id": "oIwWnBrT50xu",
        "outputId": "53c40d55-8521-4716-d1f5-dc270b9aaa14"
      },
      "source": [
        "def Merge(dict1, dict2):\r\n",
        "    res = {**dict1, **dict2}\r\n",
        "    return res\r\n",
        "     \r\n",
        "dict1 = {'a': 10, 'b': 8}\r\n",
        "dict2 = {'d': 6, 'c': 4}\r\n",
        "dict3 = Merge(dict1, dict2)\r\n",
        "print(dict3)"
      ],
      "execution_count": null,
      "outputs": [
        {
          "output_type": "stream",
          "text": [
            "{'a': 10, 'b': 8, 'd': 6, 'c': 4}\n"
          ],
          "name": "stdout"
        }
      ]
    },
    {
      "cell_type": "code",
      "metadata": {
        "colab": {
          "base_uri": "https://localhost:8080/"
        },
        "id": "_Qoz8fC3EvqZ",
        "outputId": "c899d288-0b2f-49a9-ec1a-d15376c86d36"
      },
      "source": [
        "import operator\r\n",
        "d = {1: 2, 3: 4, 4: 3, 2: 1, 0: 0}\r\n",
        "print('Original dictionary : ',d)\r\n",
        "sorted_d = sorted(d.items(), key=operator.itemgetter(1))\r\n",
        "print('Dictionary in ascending order by value : ',sorted_d)\r\n",
        "sorted_d = dict( sorted(d.items(), key=operator.itemgetter(1),reverse=True))\r\n",
        "print('Dictionary in descending order by value : ',sorted_d)"
      ],
      "execution_count": null,
      "outputs": [
        {
          "output_type": "stream",
          "text": [
            "Original dictionary :  {1: 2, 3: 4, 4: 3, 2: 1, 0: 0}\n",
            "Dictionary in ascending order by value :  [(0, 0), (2, 1), (1, 2), (4, 3), (3, 4)]\n",
            "Dictionary in descending order by value :  {3: 4, 4: 3, 1: 2, 2: 1, 0: 0}\n"
          ],
          "name": "stdout"
        }
      ]
    },
    {
      "cell_type": "code",
      "metadata": {
        "colab": {
          "base_uri": "https://localhost:8080/"
        },
        "id": "MZv5WUyuFnKA",
        "outputId": "dd654767-bd5c-4e10-a363-f4f3b7b61841"
      },
      "source": [
        "#find biggest number\r\n",
        "x=int(input('enter the 1st number'))\r\n",
        "y=int(input('enter the 2 nd number'))\r\n",
        "z=int(input('enter the 3 rd number'))\r\n",
        "if (x > y) and (x > z):\r\n",
        "   largest = x\r\n",
        "elif (y > x) and (y > z):\r\n",
        "   largest = y\r\n",
        "else:\r\n",
        "   largest = z\r\n",
        "   print(\"The largest number is\", largest)\r\n",
        "\r\n",
        "  "
      ],
      "execution_count": null,
      "outputs": [
        {
          "output_type": "stream",
          "text": [
            "enter the 1st number7\n",
            "enter the 2 nd number8\n",
            "enter the 3 rd number9\n",
            "The largest number is 9\n"
          ],
          "name": "stdout"
        }
      ]
    },
    {
      "cell_type": "code",
      "metadata": {
        "colab": {
          "base_uri": "https://localhost:8080/"
        },
        "id": "66_o7ygTRmNU",
        "outputId": "ec0ef529-8e3c-4814-ff71-89f15139db80"
      },
      "source": [
        "a = int(input(\"Input an integer : \"))\r\n",
        "n1 = int( \"%s\" % a )\r\n",
        "print(n1)\r\n",
        "n2 = int( \"%s%s\" % (a,a) )\r\n",
        "print(n2)\r\n",
        "n3 = int( \"%s%s%s\" % (a,a,a) )\r\n",
        "print(n3)\r\n",
        "print (\"sum  =\",n1+n2+n3)"
      ],
      "execution_count": null,
      "outputs": [
        {
          "output_type": "stream",
          "text": [
            "Input an integer : 1\n",
            "1\n",
            "11\n",
            "111\n",
            "sum  = 123\n"
          ],
          "name": "stdout"
        }
      ]
    },
    {
      "cell_type": "code",
      "metadata": {
        "colab": {
          "base_uri": "https://localhost:8080/"
        },
        "id": "vAbzb8KJJwj8",
        "outputId": "5f780c83-02ab-44a3-913d-04b23dd9ee8b"
      },
      "source": [
        "def chars_mix_up(a, b):\r\n",
        "  new_a = b[:2] + a[2:]\r\n",
        "  new_b = a[:2] + b[2:]\r\n",
        "\r\n",
        "  return new_a + ' ' + new_b\r\n",
        "print(chars_mix_up('abc', 'xyz'))"
      ],
      "execution_count": null,
      "outputs": [
        {
          "output_type": "stream",
          "text": [
            "xyc abz\n"
          ],
          "name": "stdout"
        }
      ]
    },
    {
      "cell_type": "code",
      "metadata": {
        "colab": {
          "base_uri": "https://localhost:8080/"
        },
        "id": "lOAjYBEqJ7Mt",
        "outputId": "3e22f524-1bd8-496f-d040-967458be8e81"
      },
      "source": [
        "#program to find area of circle in Python using π\r\n",
        "PI = 3.14\r\n",
        "r = float(input(\"Enter the radius of the circle: \"))\r\n",
        "area = PI * r * r\r\n",
        "print(\"%.2f\" %area)"
      ],
      "execution_count": null,
      "outputs": [
        {
          "output_type": "stream",
          "text": [
            "Enter the radius of the circle: 3\n",
            "28.26\n"
          ],
          "name": "stdout"
        }
      ]
    },
    {
      "cell_type": "code",
      "metadata": {
        "colab": {
          "base_uri": "https://localhost:8080/"
        },
        "id": "-Cqu0RbdK1WY",
        "outputId": "5134deb3-d3a9-45ee-ff98-1f8d6f3362a6"
      },
      "source": [
        "txt = \"python\"\r\n",
        "\r\n",
        "x = txt.replace(\"p\",\"n\")\r\n",
        "w=x\r\n",
        "o= w.replace(\"n\",\"p\")\r\n",
        "\r\n",
        "print(o)"
      ],
      "execution_count": null,
      "outputs": [
        {
          "output_type": "stream",
          "text": [
            "pythop\n"
          ],
          "name": "stdout"
        }
      ]
    },
    {
      "cell_type": "code",
      "metadata": {
        "colab": {
          "base_uri": "https://localhost:8080/"
        },
        "id": "5Yt3CfdHOgVK",
        "outputId": "8ae4a5fa-ba44-48e5-cc15-ec0401671b31"
      },
      "source": [
        "# Python String Operations\r\n",
        "str1 = str(input(\"enter the name\"))\r\n",
        "str2 =\".php\"\r\n",
        "\r\n",
        "str3=(str1 + str2)# using *\r\n",
        "print(str3)"
      ],
      "execution_count": null,
      "outputs": [
        {
          "output_type": "stream",
          "text": [
            "enter the nameanu\n",
            "anu.php\n"
          ],
          "name": "stdout"
        }
      ]
    },
    {
      "cell_type": "code",
      "metadata": {
        "colab": {
          "base_uri": "https://localhost:8080/"
        },
        "id": "sVn8yw8OQKXE",
        "outputId": "9b2286c3-0269-4326-e2c9-7663ecfae0de"
      },
      "source": [
        "color_list = [\"Red\",\"Green\",\"White\" ,\"Black\"]\r\n",
        "print(color_list)\r\n",
        "print( \"%s %s\"%(color_list[0],color_list[-1]))"
      ],
      "execution_count": null,
      "outputs": [
        {
          "output_type": "stream",
          "text": [
            "['Red', 'Green', 'White', 'Black']\n",
            "Red Black\n"
          ],
          "name": "stdout"
        }
      ]
    },
    {
      "cell_type": "code",
      "metadata": {
        "colab": {
          "base_uri": "https://localhost:8080/"
        },
        "id": "rsWGKu-ayZpI",
        "outputId": "9477c12f-1919-40e8-d4b4-f9800a2e62ce"
      },
      "source": [
        "list1 = [11, 22, 33, 44, 55]\r\n",
        "list2 = [11, 22, 33, 44, 55,66]\r\n",
        "s=len(list1)\r\n",
        "m=len(list2)\r\n",
        "print(\"length of list 1 is:\",len(list1))\r\n",
        "print(\"length of list 2 is:\",len(list2))\r\n",
        "if s==m:\r\n",
        " print(\"both list is same\")\r\n",
        "else:\r\n",
        " print(\"not same\")\r\n",
        "\r\n",
        "\r\n",
        "total1 = 0\r\n",
        "ele = 0\r\n",
        "while(ele < len(list1)):\r\n",
        "    total1 = total1 + list1[ele]\r\n",
        "    ele += 1\r\n",
        "     \r\n",
        "print(\"Sum of all elements in given list1 : \", total1)\r\n",
        "total2 = 0\r\n",
        "ele = 0\r\n",
        "while(ele < len(list2)):\r\n",
        "    total2 = total2 + list2[ele]\r\n",
        "    ele += 1\r\n",
        "     \r\n",
        "print(\"Sum of all elements in given list2 : \", total2)"
      ],
      "execution_count": null,
      "outputs": [
        {
          "output_type": "stream",
          "text": [
            "length of list 1 is: 5\n",
            "length of list 2 is: 6\n",
            "not same\n",
            "Sum of all elements in given list1 :  165\n",
            "Sum of all elements in given list2 :  231\n"
          ],
          "name": "stdout"
        }
      ]
    },
    {
      "cell_type": "code",
      "metadata": {
        "id": "Enz32Hs6yZjP"
      },
      "source": [
        "txt = \"hellowanu\"\r\n",
        "new_character = \"  \"\r\n",
        "string = txt[0:6] + new_character + txt[6:]\r\n",
        "print(string)"
      ],
      "execution_count": null,
      "outputs": []
    },
    {
      "cell_type": "code",
      "metadata": {
        "id": "Vc7KFEmDypdL"
      },
      "source": [
        "txt = input(\"Enter a the name\")\r\n",
        "new_character = '&'\r\n",
        "string = new_character + txt[1:]\r\n",
        "print(string)"
      ],
      "execution_count": null,
      "outputs": []
    },
    {
      "cell_type": "code",
      "metadata": {
        "id": "iGYu6WrcyuYp"
      },
      "source": [
        "input_string = input(\"Enter a list elements separated by space \")\r\n",
        "\r\n",
        "print(\"\\n\")\r\n",
        "color_list = input_string.split()\r\n",
        "print(\"user list is \", color_list)\r\n",
        "print( \"%s %s\"%(color_list[0],color_list[-1]))"
      ],
      "execution_count": null,
      "outputs": []
    },
    {
      "cell_type": "code",
      "metadata": {
        "id": "H-LFd4cny0pC"
      },
      "source": [
        "list1 = [\"White\", \"Black\", \"Red\"]\r\n",
        "list2 = [\"Red\", \"Green\"]\r\n",
        "mylist = list1 + list2\r\n",
        "mylist = list(dict.fromkeys(mylist))\r\n",
        "print(mylist)"
      ],
      "execution_count": null,
      "outputs": []
    },
    {
      "cell_type": "code",
      "metadata": {
        "id": "gPD0uU8Cy9_R"
      },
      "source": [
        "str1 = str(input(\"enter the address\"))\r\n",
        "print(str1)"
      ],
      "execution_count": null,
      "outputs": []
    },
    {
      "cell_type": "code",
      "metadata": {
        "id": "OlKuDtqIy-s8"
      },
      "source": [
        "color_list = [\"Red\",\"Green\",\"White\" ,\"Black\"]\r\n",
        "print(color_list)\r\n",
        "print( \"%s %s\"%(color_list[0],color_list[-1]))"
      ],
      "execution_count": null,
      "outputs": []
    },
    {
      "cell_type": "code",
      "metadata": {
        "id": "kXzKpWQ9m21N"
      },
      "source": [
        "x=[]\r\n",
        "n=int(input(\"enter any integers :\"))\r\n",
        "for i in range(1,n+1):\r\n",
        "  a=int(input())\r\n",
        "  if (a>100):\r\n",
        "    x.append('over')\r\n",
        "  else:\r\n",
        "    x.append(a)\r\n",
        "print(\"modified list :\" ,x)"
      ],
      "execution_count": null,
      "outputs": []
    },
    {
      "cell_type": "code",
      "metadata": {
        "id": "ni__lN6dm31u"
      },
      "source": [
        "x=[]\r\n",
        "n=int(input(\"enter list items : \"))\r\n",
        "for i in range(1,n+1):\r\n",
        "    a=int(input(\"enter the value of %d item : \"%i))\r\n",
        "    x.append(a)\r\n",
        "y=[num for num in x if num >= 0]\r\n",
        "print(\"initial list of integers is :\",x) \r\n",
        "print(\"modified list of positive numbers is :\",y) "
      ],
      "execution_count": null,
      "outputs": []
    },
    {
      "cell_type": "code",
      "metadata": {
        "id": "kiZyxi2lm9lK"
      },
      "source": [
        "x=[]\r\n",
        "n=int(input(\"enter list items : \"))\r\n",
        "for i in range(1,n+1):\r\n",
        "    a=int(input(\"enter the value of %d item : \"%i))\r\n",
        "    x.append(a)\r\n",
        "b=(num**2 for num in x)\r\n",
        "print(\"initial list of N numbers :\",x)\r\n",
        "y=list(b)\r\n",
        "print(\"square list of N numbers :\",y)"
      ],
      "execution_count": null,
      "outputs": []
    },
    {
      "cell_type": "code",
      "metadata": {
        "id": "s26PyPMjnBwz"
      },
      "source": [
        "w=input(\"enter any word : \")\r\n",
        "v=[l for l in w if l in 'aeiou' ]\r\n",
        "print(\"list of vowels in\",w,\" :\",v)"
      ],
      "execution_count": null,
      "outputs": []
    },
    {
      "cell_type": "code",
      "metadata": {
        "id": "A0Wd1mcpnFUv"
      },
      "source": [
        "w=input(\"enter any word : \")\r\n",
        "for l in range(len(w)) :\r\n",
        "  print(\"ASCII value is\",w[l],\"is\",ord(w[l]))"
      ],
      "execution_count": null,
      "outputs": []
    },
    {
      "cell_type": "code",
      "metadata": {
        "id": "QAj8wnponJqo"
      },
      "source": [
        ""
      ],
      "execution_count": null,
      "outputs": []
    },
    {
      "cell_type": "code",
      "metadata": {
        "colab": {
          "base_uri": "https://localhost:8080/"
        },
        "id": "1GERxv-u0kwd",
        "outputId": "022a1779-ab2f-49aa-b9d4-132b4909df7e"
      },
      "source": [
        "def word_count(str):\r\n",
        "    counts = dict()\r\n",
        "    words = str.split()\r\n",
        "\r\n",
        "    for word in words:\r\n",
        "        if word in counts:\r\n",
        "            counts[word] += 1\r\n",
        "        else:\r\n",
        "            counts[word] = 1\r\n",
        "\r\n",
        "    return counts\r\n",
        "\r\n",
        "print( word_count('the quick brown fox jumps over the lazy dog.'))\r\n"
      ],
      "execution_count": null,
      "outputs": [
        {
          "output_type": "stream",
          "text": [
            "{'the': 2, 'quick': 1, 'brown': 1, 'fox': 1, 'jumps': 1, 'over': 1, 'lazy': 1, 'dog.': 1}\n"
          ],
          "name": "stdout"
        }
      ]
    },
    {
      "cell_type": "code",
      "metadata": {
        "id": "KSDOpMdm1UL2"
      },
      "source": [
        ""
      ],
      "execution_count": null,
      "outputs": []
    },
    {
      "cell_type": "code",
      "metadata": {
        "colab": {
          "base_uri": "https://localhost:8080/"
        },
        "id": "uhDmm1ai1XSc",
        "outputId": "7885956e-c0de-4496-9da0-c33e1b3b83a4"
      },
      "source": [
        "list1 = [\"a\",\"b\",\"a\",\"a\"]\r\n",
        "print(list1.count(\"a\"))\r\n"
      ],
      "execution_count": null,
      "outputs": [
        {
          "output_type": "stream",
          "text": [
            "3\n"
          ],
          "name": "stdout"
        }
      ]
    },
    {
      "cell_type": "code",
      "metadata": {
        "id": "nUFY8uQkmM7b"
      },
      "source": [
        "s=int(input(\"enter starting year: \"))\r\n",
        "e=int(input(\"enter ending year: \"))\r\n",
        "print(\"leap years between\",s,\"and\",e)\r\n",
        "while (s<=e):\r\n",
        "    if ((s%400==0) or ((s%4==0) and (s%100!=0))):\r\n",
        "      print(s)\r\n",
        "    s=s+1"
      ],
      "execution_count": null,
      "outputs": []
    }
  ]
}