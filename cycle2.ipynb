{
  "nbformat": 4,
  "nbformat_minor": 0,
  "metadata": {
    "colab": {
      "name": "cycle2.ipynb",
      "provenance": [],
      "collapsed_sections": [],
      "authorship_tag": "ABX9TyOoZ8vlPLD4YBfejsE7xRRt",
      "include_colab_link": true
    },
    "kernelspec": {
      "name": "python3",
      "display_name": "Python 3"
    }
  },
  "cells": [
    {
      "cell_type": "markdown",
      "metadata": {
        "id": "view-in-github",
        "colab_type": "text"
      },
      "source": [
        "<a href=\"https://colab.research.google.com/github/Alphonsbaby/PYTHON-CYCLE-1/blob/main/cycle2.ipynb\" target=\"_parent\"><img src=\"https://colab.research.google.com/assets/colab-badge.svg\" alt=\"Open In Colab\"/></a>"
      ]
    },
    {
      "cell_type": "code",
      "metadata": {
        "colab": {
          "base_uri": "https://localhost:8080/"
        },
        "id": "l6hz8rPi1r_A",
        "outputId": "ef995a61-2cef-4ba3-dbde-f4770fafd7f6"
      },
      "source": [
        "yes \r\n",
        "list = [11, 22, 33, 44, 55]\r\n",
        "print(\"list before removing EVENnumbers\")\r\n",
        "print (list)\r\n",
        "\r\n",
        "for i  in list:\r\n",
        "\tif(i%2 == 0):\r\n",
        "\t    list.remove(i)\r\n",
        "\r\n",
        "print (\"list after removing EVEN numbers:\")\r\n",
        "print (list)"
      ],
      "execution_count": null,
      "outputs": [
        {
          "output_type": "stream",
          "text": [
            "list before removing EVENnumbers\n",
            "[11, 22, 33, 44, 55]\n",
            "list after removing EVEN numbers:\n",
            "[11, 33, 55]\n"
          ],
          "name": "stdout"
        }
      ]
    },
    {
      "cell_type": "code",
      "metadata": {
        "colab": {
          "base_uri": "https://localhost:8080/"
        },
        "id": "DYBFhNxJ4uED",
        "outputId": "614b623a-d2ab-4663-8e71-ff0ed0d527b7"
      },
      "source": [
        "import math \r\n",
        "\r\n",
        "print(\"The gcd of 60 and 48 is : \", end=\"\") \r\n",
        "print(math.gcd(60, 48))"
      ],
      "execution_count": null,
      "outputs": [
        {
          "output_type": "stream",
          "text": [
            "The gcd of 60 and 48 is : 12\n"
          ],
          "name": "stdout"
        }
      ]
    },
    {
      "cell_type": "code",
      "metadata": {
        "colab": {
          "base_uri": "https://localhost:8080/"
        },
        "id": "oIwWnBrT50xu",
        "outputId": "53c40d55-8521-4716-d1f5-dc270b9aaa14"
      },
      "source": [
        "def Merge(dict1, dict2):\r\n",
        "    res = {**dict1, **dict2}\r\n",
        "    return res\r\n",
        "     \r\n",
        "dict1 = {'a': 10, 'b': 8}\r\n",
        "dict2 = {'d': 6, 'c': 4}\r\n",
        "dict3 = Merge(dict1, dict2)\r\n",
        "print(dict3)"
      ],
      "execution_count": null,
      "outputs": [
        {
          "output_type": "stream",
          "text": [
            "{'a': 10, 'b': 8, 'd': 6, 'c': 4}\n"
          ],
          "name": "stdout"
        }
      ]
    },
    {
      "cell_type": "code",
      "metadata": {
        "colab": {
          "base_uri": "https://localhost:8080/"
        },
        "id": "_Qoz8fC3EvqZ",
        "outputId": "c899d288-0b2f-49a9-ec1a-d15376c86d36"
      },
      "source": [
        "import operator\r\n",
        "d = {1: 2, 3: 4, 4: 3, 2: 1, 0: 0}\r\n",
        "print('Original dictionary : ',d)\r\n",
        "sorted_d = sorted(d.items(), key=operator.itemgetter(1))\r\n",
        "print('Dictionary in ascending order by value : ',sorted_d)\r\n",
        "sorted_d = dict( sorted(d.items(), key=operator.itemgetter(1),reverse=True))\r\n",
        "print('Dictionary in descending order by value : ',sorted_d)"
      ],
      "execution_count": null,
      "outputs": [
        {
          "output_type": "stream",
          "text": [
            "Original dictionary :  {1: 2, 3: 4, 4: 3, 2: 1, 0: 0}\n",
            "Dictionary in ascending order by value :  [(0, 0), (2, 1), (1, 2), (4, 3), (3, 4)]\n",
            "Dictionary in descending order by value :  {3: 4, 4: 3, 1: 2, 2: 1, 0: 0}\n"
          ],
          "name": "stdout"
        }
      ]
    },
    {
      "cell_type": "code",
      "metadata": {
        "colab": {
          "base_uri": "https://localhost:8080/"
        },
        "id": "MZv5WUyuFnKA",
        "outputId": "dd654767-bd5c-4e10-a363-f4f3b7b61841"
      },
      "source": [
        "#find biggest number\r\n",
        "x=int(input('enter the 1st number'))\r\n",
        "y=int(input('enter the 2 nd number'))\r\n",
        "z=int(input('enter the 3 rd number'))\r\n",
        "if (x > y) and (x > z):\r\n",
        "   largest = x\r\n",
        "elif (y > x) and (y > z):\r\n",
        "   largest = y\r\n",
        "else:\r\n",
        "   largest = z\r\n",
        "   print(\"The largest number is\", largest)\r\n",
        "\r\n",
        "  "
      ],
      "execution_count": null,
      "outputs": [
        {
          "output_type": "stream",
          "text": [
            "enter the 1st number7\n",
            "enter the 2 nd number8\n",
            "enter the 3 rd number9\n",
            "The largest number is 9\n"
          ],
          "name": "stdout"
        }
      ]
    },
    {
      "cell_type": "code",
      "metadata": {
        "colab": {
          "base_uri": "https://localhost:8080/"
        },
        "id": "66_o7ygTRmNU",
        "outputId": "ec0ef529-8e3c-4814-ff71-89f15139db80"
      },
      "source": [
        "a = int(input(\"Input an integer : \"))\r\n",
        "n1 = int( \"%s\" % a )\r\n",
        "print(n1)\r\n",
        "n2 = int( \"%s%s\" % (a,a) )\r\n",
        "print(n2)\r\n",
        "n3 = int( \"%s%s%s\" % (a,a,a) )\r\n",
        "print(n3)\r\n",
        "print (\"sum  =\",n1+n2+n3)"
      ],
      "execution_count": null,
      "outputs": [
        {
          "output_type": "stream",
          "text": [
            "Input an integer : 1\n",
            "1\n",
            "11\n",
            "111\n",
            "sum  = 123\n"
          ],
          "name": "stdout"
        }
      ]
    },
    {
      "cell_type": "code",
      "metadata": {
        "colab": {
          "base_uri": "https://localhost:8080/"
        },
        "id": "vAbzb8KJJwj8",
        "outputId": "5f780c83-02ab-44a3-913d-04b23dd9ee8b"
      },
      "source": [
        "def chars_mix_up(a, b):\r\n",
        "  new_a = b[:2] + a[2:]\r\n",
        "  new_b = a[:2] + b[2:]\r\n",
        "\r\n",
        "  return new_a + ' ' + new_b\r\n",
        "print(chars_mix_up('abc', 'xyz'))"
      ],
      "execution_count": null,
      "outputs": [
        {
          "output_type": "stream",
          "text": [
            "xyc abz\n"
          ],
          "name": "stdout"
        }
      ]
    },
    {
      "cell_type": "code",
      "metadata": {
        "colab": {
          "base_uri": "https://localhost:8080/"
        },
        "id": "lOAjYBEqJ7Mt",
        "outputId": "3e22f524-1bd8-496f-d040-967458be8e81"
      },
      "source": [
        "#program to find area of circle in Python using π\r\n",
        "PI = 3.14\r\n",
        "r = float(input(\"Enter the radius of the circle: \"))\r\n",
        "area = PI * r * r\r\n",
        "print(\"%.2f\" %area)"
      ],
      "execution_count": null,
      "outputs": [
        {
          "output_type": "stream",
          "text": [
            "Enter the radius of the circle: 3\n",
            "28.26\n"
          ],
          "name": "stdout"
        }
      ]
    },
    {
      "cell_type": "code",
      "metadata": {
        "colab": {
          "base_uri": "https://localhost:8080/"
        },
        "id": "-Cqu0RbdK1WY",
        "outputId": "5134deb3-d3a9-45ee-ff98-1f8d6f3362a6"
      },
      "source": [
        "txt = \"python\"\r\n",
        "\r\n",
        "x = txt.replace(\"p\",\"n\")\r\n",
        "w=x\r\n",
        "o= w.replace(\"n\",\"p\")\r\n",
        "\r\n",
        "print(o)"
      ],
      "execution_count": null,
      "outputs": [
        {
          "output_type": "stream",
          "text": [
            "pythop\n"
          ],
          "name": "stdout"
        }
      ]
    },
    {
      "cell_type": "code",
      "metadata": {
        "colab": {
          "base_uri": "https://localhost:8080/"
        },
        "id": "5Yt3CfdHOgVK",
        "outputId": "8ae4a5fa-ba44-48e5-cc15-ec0401671b31"
      },
      "source": [
        "# Python String Operations\r\n",
        "str1 = str(input(\"enter the name\"))\r\n",
        "str2 =\".php\"\r\n",
        "\r\n",
        "str3=(str1 + str2)# using *\r\n",
        "print(str3)"
      ],
      "execution_count": null,
      "outputs": [
        {
          "output_type": "stream",
          "text": [
            "enter the nameanu\n",
            "anu.php\n"
          ],
          "name": "stdout"
        }
      ]
    },
    {
      "cell_type": "code",
      "metadata": {
        "colab": {
          "base_uri": "https://localhost:8080/"
        },
        "id": "sVn8yw8OQKXE",
        "outputId": "9b2286c3-0269-4326-e2c9-7663ecfae0de"
      },
      "source": [
        "color_list = [\"Red\",\"Green\",\"White\" ,\"Black\"]\r\n",
        "print(color_list)\r\n",
        "print( \"%s %s\"%(color_list[0],color_list[-1]))"
      ],
      "execution_count": null,
      "outputs": [
        {
          "output_type": "stream",
          "text": [
            "['Red', 'Green', 'White', 'Black']\n",
            "Red Black\n"
          ],
          "name": "stdout"
        }
      ]
    },
    {
      "cell_type": "code",
      "metadata": {
        "colab": {
          "base_uri": "https://localhost:8080/"
        },
        "id": "_K0x9BSs_qgf",
        "outputId": "139f47e6-95fa-4030-83ba-20d2b117be37"
      },
      "source": [
        "str1 = str(input(\"enter the address\"))\n",
        "print(str1)"
      ],
      "execution_count": 1,
      "outputs": [
        {
          "output_type": "stream",
          "text": [
            "enter the addresspoothottathil\n",
            "poothottathil\n"
          ],
          "name": "stdout"
        }
      ]
    },
    {
      "cell_type": "code",
      "metadata": {
        "colab": {
          "base_uri": "https://localhost:8080/"
        },
        "id": "Ku2WSnUMBDUH",
        "outputId": "f69d07ad-051e-44ae-abf7-7c43c9b118ff"
      },
      "source": [
        "list1 = [\"White\", \"Black\", \"Red\"]\n",
        "list2 = [\"Red\", \"Green\"]\n",
        "mylist = list1 + list2\n",
        "mylist = list(dict.fromkeys(mylist))\n",
        "print(mylist)"
      ],
      "execution_count": 5,
      "outputs": [
        {
          "output_type": "stream",
          "text": [
            "['White', 'Black', 'Red', 'Green']\n"
          ],
          "name": "stdout"
        }
      ]
    },
    {
      "cell_type": "code",
      "metadata": {
        "colab": {
          "base_uri": "https://localhost:8080/"
        },
        "id": "hCtHnH1qDI9y",
        "outputId": "19e7d0fd-1591-4c18-9b5d-ba7f9c05a616"
      },
      "source": [
        "\n",
        "input_string = input(\"Enter a list elements separated by space \")\n",
        "\n",
        "print(\"\\n\")\n",
        "color_list = input_string.split()\n",
        "print(\"user list is \", color_list)\n",
        "print( \"%s %s\"%(color_list[0],color_list[-1]))"
      ],
      "execution_count": 8,
      "outputs": [
        {
          "output_type": "stream",
          "text": [
            "Enter a list elements separated by space a b c\n",
            "\n",
            "\n",
            "user list is  ['a', 'b', 'c']\n",
            "a c\n"
          ],
          "name": "stdout"
        }
      ]
    }
  ]
}